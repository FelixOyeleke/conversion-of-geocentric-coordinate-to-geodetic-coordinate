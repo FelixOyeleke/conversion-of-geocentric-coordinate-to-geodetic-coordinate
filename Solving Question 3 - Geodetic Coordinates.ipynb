{
 "cells": [
  {
   "cell_type": "markdown",
   "id": "2fc1dd0e",
   "metadata": {},
   "source": [
    "## Question 3 "
   ]
  },
  {
   "cell_type": "code",
   "execution_count": 167,
   "id": "092b7391",
   "metadata": {},
   "outputs": [],
   "source": [
    "from math import sin, cos, sqrt, atan2, atan, radians, degrees"
   ]
  },
  {
   "cell_type": "code",
   "execution_count": 168,
   "id": "0c3d8222",
   "metadata": {},
   "outputs": [],
   "source": [
    "#Definition of Parameters\n",
    "\n",
    "Lat = 136153.995 #as provided, Geocentric Latitude of the given point\n",
    "Long = -4859278.535 #as provided, Geocentric Longitude of the given point\n",
    "Zp = 4115642.695 #as provided, geocentric height of the given point\n",
    "\n",
    "e = 0.08181919084 #eccentricity\n",
    "a = 6378137 #semi major axis of the earth"
   ]
  },
  {
   "cell_type": "markdown",
   "id": "14f2027e",
   "metadata": {},
   "source": [
    " "
   ]
  },
  {
   "cell_type": "markdown",
   "id": "2a469f9b",
   "metadata": {},
   "source": [
    "#### First Step, Calcute the D_p"
   ]
  },
  {
   "cell_type": "code",
   "execution_count": 185,
   "id": "c7b525dd",
   "metadata": {},
   "outputs": [
    {
     "name": "stdout",
     "output_type": "stream",
     "text": [
      "The value of Dp is 4861185.6363510955\n"
     ]
    }
   ],
   "source": [
    "#Step 1: Calculate the Dp\n",
    "\n",
    "Dp = sqrt((Lat**2) + (Long**2)) \n",
    "print(\"The value of Dp is\", Dp)"
   ]
  },
  {
   "cell_type": "markdown",
   "id": "e555b2ca",
   "metadata": {},
   "source": [
    " "
   ]
  },
  {
   "cell_type": "markdown",
   "id": "4d3ddc1d",
   "metadata": {},
   "source": [
    "#### Second Step, Compute the Geodetic Longitude"
   ]
  },
  {
   "cell_type": "code",
   "execution_count": 170,
   "id": "60c352b0",
   "metadata": {},
   "outputs": [
    {
     "name": "stdout",
     "output_type": "stream",
     "text": [
      "The Geodetic Longitude (λp) is -88.39502743374516\n"
     ]
    }
   ],
   "source": [
    "#Step 2: Calculate the Longitude (λp)\n",
    "\n",
    "Lo = (Dp - Lat)/(Long)\n",
    "Longitude = 2* atan(Lo) * 57.29577951308232 #1 Radian to Degree is 57.29577951308232\n",
    "\n",
    "print(\"The Geodetic Longitude (λp) is\", Longitude) "
   ]
  },
  {
   "cell_type": "markdown",
   "id": "b2c1caaf",
   "metadata": {},
   "source": [
    " "
   ]
  },
  {
   "cell_type": "markdown",
   "id": "f6983e74",
   "metadata": {},
   "source": [
    "#### Third Step, Calcute the Approximate Latitude (ϕ)"
   ]
  },
  {
   "cell_type": "code",
   "execution_count": 171,
   "id": "ba4de577",
   "metadata": {},
   "outputs": [
    {
     "name": "stdout",
     "output_type": "stream",
     "text": [
      "The Approximate Latitude (ϕ) is 40.44226266234367\n"
     ]
    }
   ],
   "source": [
    "#Step 3: Calculate the approximate Latitude (ϕ)\n",
    "\n",
    "Approx_Lat = atan((Zp)/(Dp * (1 - e**2))) * 57.29577951308232 #1 Radian  to Degree is 57.29577951308232\n",
    "print(\"The Approximate Latitude (ϕ) is\", Approx_Lat)"
   ]
  },
  {
   "cell_type": "markdown",
   "id": "e6915fd7",
   "metadata": {},
   "source": [
    " "
   ]
  },
  {
   "cell_type": "markdown",
   "id": "52b5b8c6",
   "metadata": {},
   "source": [
    "#### Fourth Step, Calculate the approximate radius of the prime vertical, RN "
   ]
  },
  {
   "cell_type": "code",
   "execution_count": 172,
   "id": "61db9acd",
   "metadata": {},
   "outputs": [
    {
     "name": "stdout",
     "output_type": "stream",
     "text": [
      "The approximate radius of the Prime Vertical (RN) is 6381857.290578036\n"
     ]
    }
   ],
   "source": [
    "#Step 4: Calculate the Approximate Radius of the Prime Vertical, RN\n",
    "\n",
    "RN = a / (sqrt(1 - (e**2)*(sin(Longitude)**2)))\n",
    "print(\"The approximate radius of the Prime Vertical (RN) is\", RN)"
   ]
  },
  {
   "cell_type": "markdown",
   "id": "4725ac63",
   "metadata": {},
   "source": [
    " "
   ]
  },
  {
   "cell_type": "markdown",
   "id": "4fbdbfbc",
   "metadata": {},
   "source": [
    "#### Fifth Step, Calculate an improved value for the Approximate Latitude (ϕ) "
   ]
  },
  {
   "cell_type": "code",
   "execution_count": 192,
   "id": "53ad95fc",
   "metadata": {},
   "outputs": [
    {
     "name": "stdout",
     "output_type": "stream",
     "text": [
      "The Improved Latitude for the point is 40.365977083275396\n"
     ]
    }
   ],
   "source": [
    "#Step 5: Calculate an improved vaule for the latitude from ϕ_0:\n",
    "\n",
    "Improved_Lat = atan((Zp+(e**2)*RN*(sin(Approx_Lat)))/Dp) * 57.29577951308232 #1 Radians is equal to Degrees : 57.29577951308232\n",
    "print(\"The Improved Latitude for the point is\", Improved_Lat)"
   ]
  },
  {
   "cell_type": "markdown",
   "id": "1d3af7d7",
   "metadata": {},
   "source": [
    " "
   ]
  },
  {
   "cell_type": "markdown",
   "id": "081c2701",
   "metadata": {},
   "source": [
    "#### Sixth Step, Repeat Step 4 & 5 until the Latitude converge"
   ]
  },
  {
   "cell_type": "code",
   "execution_count": 193,
   "id": "34e735b0",
   "metadata": {},
   "outputs": [
    {
     "name": "stdout",
     "output_type": "stream",
     "text": [
      "The new approximate radius of the Prime Vertical (RN_1)  is 6385579.751156808\n"
     ]
    }
   ],
   "source": [
    "#Repeat Step 4 until the latitude converge. \n",
    "\n",
    "RN_1 = (RN)/(sqrt((1-(e**2)*(sin(Longitude))**2)))\n",
    "print(\"The new approximate radius of the Prime Vertical (RN_1)  is\", RN_1)\n"
   ]
  },
  {
   "cell_type": "markdown",
   "id": "67fa1ef4",
   "metadata": {},
   "source": [
    "  "
   ]
  },
  {
   "cell_type": "code",
   "execution_count": 175,
   "id": "33e3d805",
   "metadata": {},
   "outputs": [
    {
     "name": "stdout",
     "output_type": "stream",
     "text": [
      "The new improved latitude (Improved_Latitude_1) of the point is 40.386252196856084\n"
     ]
    }
   ],
   "source": [
    "#Repeat Step 5 until the latitude converge. \n",
    "\n",
    "Improved_Latitude_1 = atan((Zp+(e**2)*RN_1*(sin(Improved_Latitude))) /(Dp)) * 57.29577951308232 #1 Radians is equal to Degrees : 57.29577951308232\n",
    "print(\"The new improved latitude (Improved_Latitude_1) of the point is\", Improved_Latitude_1)"
   ]
  },
  {
   "cell_type": "markdown",
   "id": "90ba5d96",
   "metadata": {},
   "source": [
    " "
   ]
  },
  {
   "cell_type": "markdown",
   "id": "b909182d",
   "metadata": {},
   "source": [
    "###### Since there is no convergence here, we iterate Step 4 & 5 again "
   ]
  },
  {
   "cell_type": "code",
   "execution_count": 194,
   "id": "0e5e9e43",
   "metadata": {},
   "outputs": [
    {
     "name": "stdout",
     "output_type": "stream",
     "text": [
      "The new approximate radius of the Prime Vertical (RN_2)  is 6389702.352437751\n"
     ]
    }
   ],
   "source": [
    " #Repeat Step 4 until the latitude converge.\n",
    "\n",
    "RN_2 = (RN_1)/(sqrt((1-(e**2)*(sin(Improved_Latitude_1))**2)))\n",
    "print(\"The new approximate radius of the Prime Vertical (RN_2)  is\", RN_2)\n"
   ]
  },
  {
   "cell_type": "code",
   "execution_count": 195,
   "id": "cd4b75dc",
   "metadata": {},
   "outputs": [
    {
     "name": "stdout",
     "output_type": "stream",
     "text": [
      "The new improved latitude (Improved_Latitude_1) of the point is 40.38103619711462\n"
     ]
    }
   ],
   "source": [
    "#Repeat Step 5 until the latitude converge. \n",
    "\n",
    "Improved_Latitude_2 = atan((Zp+(e**2)*RN_2*(sin(Improved_Latitude_1))) /(Dp)) * 57.29577951308232 #1 Radians is equal to Degrees : 57.29577951308232\n",
    "print(\"The new improved latitude (Improved_Latitude_1) of the point is\", Improved_Latitude_2)"
   ]
  },
  {
   "cell_type": "markdown",
   "id": "fa4f2038",
   "metadata": {},
   "source": [
    " "
   ]
  },
  {
   "cell_type": "code",
   "execution_count": null,
   "id": "de76759c",
   "metadata": {},
   "outputs": [],
   "source": []
  },
  {
   "cell_type": "markdown",
   "id": "c6b59f20",
   "metadata": {},
   "source": [
    "#### Seventh Step, Compute the Geodetic Height with the improved Latitude"
   ]
  },
  {
   "cell_type": "markdown",
   "id": "5b31395a",
   "metadata": {},
   "source": [
    " "
   ]
  },
  {
   "cell_type": "code",
   "execution_count": 179,
   "id": "332ca45b",
   "metadata": {},
   "outputs": [
    {
     "data": {
      "text/plain": [
       "-6483732.368583441"
      ]
     },
     "execution_count": 179,
     "metadata": {},
     "output_type": "execute_result"
    }
   ],
   "source": [
    "#Step 7: Compute the geodetic Height\n",
    "\n",
    "Geodetic_Height = ((Dp/(cos(Improved_Latitude_1)* 57.29577951308232)) - RN_2) #* 57.29577951308232 #1 Radians is equal to Degrees : 57.29577951308232\n",
    "Geodetic_Height\n",
    "\n",
    "#Geodetic_Height_2 = (Zp/(sin(Improved_Latitude_1)) - RN_2*(1- (e**2)) ) * (57.30)\n",
    "#Geodetic_Height_2"
   ]
  },
  {
   "cell_type": "code",
   "execution_count": 23,
   "id": "4501047c",
   "metadata": {},
   "outputs": [
    {
     "data": {
      "text/plain": [
       "-0.44806117034226156"
      ]
     },
     "execution_count": 23,
     "metadata": {},
     "output_type": "execute_result"
    }
   ],
   "source": [
    "D\n",
    "cos(Improved_Latitude_1)"
   ]
  },
  {
   "cell_type": "code",
   "execution_count": null,
   "id": "e02d12eb",
   "metadata": {},
   "outputs": [],
   "source": []
  }
 ],
 "metadata": {
  "kernelspec": {
   "display_name": "Python 3",
   "language": "python",
   "name": "python3"
  },
  "language_info": {
   "codemirror_mode": {
    "name": "ipython",
    "version": 3
   },
   "file_extension": ".py",
   "mimetype": "text/x-python",
   "name": "python",
   "nbconvert_exporter": "python",
   "pygments_lexer": "ipython3",
   "version": "3.8.8"
  }
 },
 "nbformat": 4,
 "nbformat_minor": 5
}
